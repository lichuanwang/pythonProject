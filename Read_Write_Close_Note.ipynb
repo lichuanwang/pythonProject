{
 "cells": [
  {
   "cell_type": "markdown",
   "metadata": {},
   "source": [
    "Reading, Closing, and Writing file "
   ]
  },
  {
   "cell_type": "markdown",
   "metadata": {},
   "source": [
    "The r sign before the file path is important because it help to solve the escape problem from the '\\',\n",
    "It changes every '\\' into '\\\\'"
   ]
  },
  {
   "cell_type": "code",
   "execution_count": null,
   "metadata": {},
   "outputs": [],
   "source": [
    "read_file = open(r'file_path', mode = 'r')\n",
    "read_file.close()\n",
    "write_file = open(r'file_path', mode = 'w')\n",
    "write_file.close()"
   ]
  },
  {
   "cell_type": "markdown",
   "metadata": {},
   "source": [
    "Context Managers: close the file atuomatically after reading and writing"
   ]
  },
  {
   "cell_type": "code",
   "execution_count": null,
   "metadata": {},
   "outputs": [],
   "source": [
    "with open(r'file_path', mode = 'w') as write_file:\n",
    "    write_file.write('This is the first time, we are using context managers')"
   ]
  },
  {
   "cell_type": "markdown",
   "metadata": {},
   "source": [
    "Writing and Appending in a File"
   ]
  },
  {
   "cell_type": "code",
   "execution_count": null,
   "metadata": {},
   "outputs": [],
   "source": [
    "with open(r'file_path', 'w') as write_file:\n",
    "    write_file.write('This is the first sentence in this file.')"
   ]
  },
  {
   "cell_type": "code",
   "execution_count": null,
   "metadata": {},
   "outputs": [],
   "source": [
    "with open(r'file_path', 'r') as read_file:\n",
    "    print(read_file.read())"
   ]
  },
  {
   "cell_type": "markdown",
   "metadata": {},
   "source": [
    "The \\n help us to go to the next line"
   ]
  },
  {
   "cell_type": "code",
   "execution_count": null,
   "metadata": {},
   "outputs": [],
   "source": [
    "with open(r'file_path', 'a') as append_file:\n",
    "    append_file.write('\\nThis is the first sentence in this file.')"
   ]
  },
  {
   "cell_type": "markdown",
   "metadata": {},
   "source": [
    "The following string in the text variable will also help to go to the next line and format the text just like how we type out"
   ]
  },
  {
   "cell_type": "code",
   "execution_count": null,
   "metadata": {},
   "outputs": [],
   "source": [
    "text = \"\"\"\n",
    "This is the third line\n",
    "This is the fourth line\n",
    "This is the fifth line\n",
    "\"\"\"\n",
    "\n",
    "with open('file_path', 'a') as append_file:\n",
    "    append_file.write(text)"
   ]
  },
  {
   "cell_type": "markdown",
   "metadata": {},
   "source": [
    "Now we are going to look at how to handle the csv file\n",
    "newline parameter help to take away the space bewtween row\n",
    "\n",
    "There are writerow and writerows"
   ]
  },
  {
   "cell_type": "code",
   "execution_count": null,
   "metadata": {},
   "outputs": [],
   "source": [
    "import csv\n",
    "\n",
    "column_names = ['name', 'job', 'age']\n",
    "\n",
    "data = [['Oscar', 'Student', 24], ['Eugene', 'Software Engineer', 23], ['Iris', 'Dentist', 22]]\n",
    "\n",
    "with open(r'Oscar\\Desktop\\file.csv', 'w', newline = '') as write_file:\n",
    "    csv_writer = csv.writer(write_file)\n",
    "\n",
    "    csv_writer.writerow(column_names)\n",
    "\n",
    "    csv_writer.writerows(data)"
   ]
  },
  {
   "cell_type": "markdown",
   "metadata": {},
   "source": [
    "Dictionary to csv"
   ]
  },
  {
   "cell_type": "code",
   "execution_count": null,
   "metadata": {},
   "outputs": [],
   "source": [
    "import csv\n",
    "\n",
    "column_names = ['name', 'job', 'age']\n",
    "\n",
    "my_dict = [{'Name':'Oscar', 'Job':'Student', 'Age':24}, \n",
    "           {'Name':'Eugene', 'Job':'Software Engineer', 'Age':23}, \n",
    "           {'Name':'Iris', 'Job':'Dentist', 'Age':'22'}]\n",
    "\n",
    "with open(r'Oscar\\Desktop\\file.csv', 'w', newline = '') as write_file:\n",
    "    csv_writer = csv.DictWriter(write_file, column_names)\n",
    "    csv_writer.writeheader()\n",
    "    csv_writer.writerows(my_dict)"
   ]
  },
  {
   "cell_type": "markdown",
   "metadata": {},
   "source": [
    "Handling JSON File"
   ]
  },
  {
   "cell_type": "code",
   "execution_count": null,
   "metadata": {},
   "outputs": [],
   "source": [
    "import json\n",
    "\n",
    "column_names = ['name', 'job', 'age']\n",
    "\n",
    "my_dict = [{'Name':'Oscar', 'Job':'Student', 'Age':24}, \n",
    "           {'Name':'Eugene', 'Job':'Software Engineer', 'Age':23}, \n",
    "           {'Name':'Iris', 'Job':'Dentist', 'Age':22}]\n",
    "\n",
    "with open(r'Oscar\\Desktop\\json.json', 'w', newline = '') as write_file:\n",
    "    json.dump(my_dict, write_file)"
   ]
  },
  {
   "cell_type": "markdown",
   "metadata": {},
   "source": [
    "Creadting Folder\n",
    "\n",
    "os module is used to interact with operating system"
   ]
  },
  {
   "cell_type": "code",
   "execution_count": null,
   "metadata": {},
   "outputs": [],
   "source": [
    "import os\n",
    "\n",
    "os.mkdir(r'file_path')\n",
    "\n",
    "\n",
    "if not os.path.exists(r'file_path'):\n",
    "    os.mkdir(r'file_path')\n",
    "\n",
    "# for muliple directories use makedirs\n",
    "if not os.path.exists(r'file_path'):\n",
    "    os.makedirs(r'file_path')\n"
   ]
  },
  {
   "cell_type": "markdown",
   "metadata": {},
   "source": [
    "Copying files"
   ]
  },
  {
   "cell_type": "code",
   "execution_count": null,
   "metadata": {},
   "outputs": [],
   "source": [
    "import os\n",
    "import shutil"
   ]
  },
  {
   "cell_type": "code",
   "execution_count": null,
   "metadata": {},
   "outputs": [],
   "source": [
    "path = 'Users\\Oscar\\fake_file.csv'\n",
    "\n",
    "# move file to other folder\n",
    "shutil.move(source = path, destination = new_path)\n",
    "\n",
    "\n",
    "# copy the file and move\n",
    "shutil.copy"
   ]
  },
  {
   "cell_type": "markdown",
   "metadata": {},
   "source": [
    "Open file with pandas"
   ]
  },
  {
   "cell_type": "code",
   "execution_count": null,
   "metadata": {},
   "outputs": [],
   "source": [
    "import pandas as pd\n",
    "\n",
    "df = pd.read_csv(r'file_path')\n",
    "df1 = pd.read_json(r'file_path')\n",
    "df2 = pd.read_excel(r'file_path', sheet_name = 'sheet1')"
   ]
  },
  {
   "cell_type": "code",
   "execution_count": null,
   "metadata": {},
   "outputs": [],
   "source": [
    "# for csv file\n",
    "pd.set_option('display.max.rows', 230)\n",
    "\n",
    "# for json file \n",
    "pd.set_option('display.max.columns', 230)\n",
    "\n",
    "# for excel file\n",
    "pd.set_option('display.max.rows', 230)"
   ]
  },
  {
   "cell_type": "code",
   "execution_count": null,
   "metadata": {},
   "outputs": [],
   "source": [
    "df[df['Country'].str.contains('United')]\n",
    "\n",
    "df[df['Rank'] <= 10].sort_values(by = ['Rank'], ascending = False)\n",
    "\n"
   ]
  }
 ],
 "metadata": {
  "kernelspec": {
   "display_name": "Python 3",
   "language": "python",
   "name": "python3"
  },
  "language_info": {
   "name": "python",
   "version": "3.11.2"
  }
 },
 "nbformat": 4,
 "nbformat_minor": 2
}
