{
 "cells": [
  {
   "cell_type": "markdown",
   "metadata": {},
   "source": [
    "1 yard = 3 feet = 36 inches"
   ]
  },
  {
   "cell_type": "code",
   "execution_count": 2,
   "metadata": {},
   "outputs": [
    {
     "data": {
      "text/plain": [
       "'15156151'"
      ]
     },
     "execution_count": 2,
     "metadata": {},
     "output_type": "execute_result"
    }
   ],
   "source": [
    "input(\"Enter a number\")"
   ]
  },
  {
   "cell_type": "code",
   "execution_count": 3,
   "metadata": {},
   "outputs": [],
   "source": [
    "convert_from = input(\"Enter Starting Unit of Measurement(inches, feet, or yards):\")\n",
    "convert_to = input(\"Enter Unit of Measurement to Convert to(inches, feet, or yards):\")"
   ]
  },
  {
   "cell_type": "code",
   "execution_count": 4,
   "metadata": {},
   "outputs": [],
   "source": [
    "number_of_inches = input(\"Enter Starting Measurement in Inches:\")\n",
    "number_of_feet = input(\"Enter Starting Measurement in Feet:\")\n",
    "number_of_yards = input(\"Enter Starting Measurement in Yards:\")"
   ]
  },
  {
   "cell_type": "code",
   "execution_count": 7,
   "metadata": {},
   "outputs": [
    {
     "name": "stdout",
     "output_type": "stream",
     "text": [
      "10 yards = 30 feet\n"
     ]
    }
   ],
   "source": [
    "convert_from = input(\"Enter Starting Unit of Measurement(inches, feet, or yards):\")\n",
    "convert_to = input(\"Enter Unit of Measurement to Convert to(inches, feet, or yards):\")\n",
    "\n",
    "if convert_from.lower() in ['inches','inch','in']:\n",
    "    number_of_inches = int(input(\"Enter Starting Measurement in Inches:\"))\n",
    "    if convert_to.lower() in ['feet','ft']:\n",
    "        print(number_of_inches, 'inches =', number_of_inches / 12, 'feet')\n",
    "    elif convert_to.lower() in ['yards','yard','yd','yds']:\n",
    "        print(number_of_inches, 'inches =', number_of_inches / 36, 'yards')\n",
    "    else:\n",
    "        print(\"Please enter either 'inches, 'feet', or 'yards' in the Unit of Measurement to Convert\")\n",
    "elif convert_from.lower() in ['feet','ft']:\n",
    "    number_of_feet = int(input(\"Enter Starting Measurement in Feet:\"))\n",
    "    if convert_to.lower() in ['inches','in']:\n",
    "        print(number_of_feet, 'feet =', number_of_feet * 12, 'inches')\n",
    "    elif convert_to.lower() in ['yards','yard','yd','yds']:\n",
    "        print(number_of_feet, 'feet =', number_of_feet / 3, 'yards')\n",
    "    else:\n",
    "        print(\"Please enter either 'inches, 'feet', or 'yards' in the Unit of Measurement to Convert\")\n",
    "elif convert_from.lower() in ['yards','yard','yd','yds']:\n",
    "    number_of_yards = int(input(\"Enter Starting Measurement in Yards:\"))\n",
    "    if convert_to.lower() in ['inches','in']:\n",
    "        print(number_of_yards, 'yards =', number_of_yards * 36, 'inches')\n",
    "    elif convert_to.lower() in ['feet','ft']:\n",
    "        print(number_of_yards, 'yards =', number_of_yards * 3, 'feet')\n",
    "    else:\n",
    "        print(\"Please enter either 'inches, 'feet', or 'yards' in the Unit of Measurement to Convert\")\n",
    "else:\n",
    "    print(\"Please enter either 'inches, 'feet', or 'yards' for the starting Unit of Measurement\")\n"
   ]
  }
 ],
 "metadata": {
  "kernelspec": {
   "display_name": "Python 3",
   "language": "python",
   "name": "python3"
  },
  "language_info": {
   "codemirror_mode": {
    "name": "ipython",
    "version": 3
   },
   "file_extension": ".py",
   "mimetype": "text/x-python",
   "name": "python",
   "nbconvert_exporter": "python",
   "pygments_lexer": "ipython3",
   "version": "3.11.2"
  }
 },
 "nbformat": 4,
 "nbformat_minor": 2
}
