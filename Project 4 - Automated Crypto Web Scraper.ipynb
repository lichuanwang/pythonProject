{
 "cells": [
  {
   "cell_type": "markdown",
   "metadata": {},
   "source": [
    "Automated Crypto Web Scraper Project"
   ]
  },
  {
   "cell_type": "markdown",
   "metadata": {},
   "source": [
    "Scraping data from CoinMarketCap: https://coinmarketcap.com/currencies/bitcoin/"
   ]
  },
  {
   "cell_type": "code",
   "execution_count": 1,
   "metadata": {},
   "outputs": [],
   "source": [
    "from bs4 import BeautifulSoup\n",
    "import pandas as pd \n",
    "import os \n",
    "import requests\n",
    "from datetime import datetime\n",
    "import os\n",
    "import time\n"
   ]
  },
  {
   "cell_type": "code",
   "execution_count": 2,
   "metadata": {},
   "outputs": [],
   "source": [
    "def automated_crypto_pull():\n",
    "    url = 'https://coinmarketcap.com/currencies/bitcoin/'\n",
    "    page = requests.get(url)\n",
    "    soup = BeautifulSoup(page.text, 'html')\n",
    "\n",
    "    # title\n",
    "    # <span data-role=\"coin-name\" title=\"Bitcoin\" class=\"sc-f70bb44c-0 jltoa\">Bitcoin<span class=\"sc-f70bb44c-0 iQEJet coin-name-mobile\"> price</span>&nbsp;</span>\n",
    "    crypto_name = soup.find('span', class_ = 'sc-f70bb44c-0 jltoa').text.split()[0]\n",
    "\n",
    "    # price\n",
    "    # <span class=\"sc-f70bb44c-0 jxpCgO base-text\">$43,707.98</span>\n",
    "    crypto_price = soup.find('span', class_ = 'sc-f70bb44c-0 jxpCgO base-text').text.replace('$', '')\n",
    "\n",
    "    # timestamp\n",
    "    date_time = datetime.now()\n",
    "\n",
    "    dict = {'Crypto Name':crypto_name,\n",
    "            'Price':crypto_price,\n",
    "            'TimeStamp':date_time}\n",
    "\n",
    "    df = pd.DataFrame([dict])\n",
    "\n",
    "\n",
    "    # create or append file \n",
    "    if os.path.exists(r'/Users/oscarwang/Desktop/pythonProject/Crypto_Automated_Pull.csv'):\n",
    "        df.to_csv(r'/Users/oscarwang/Desktop/pythonProject/Crypto_Automated_Pull.csv', mode = 'a', header=False, index=False)\n",
    "    else:\n",
    "        df.to_csv(r'/Users/oscarwang/Desktop/pythonProject/Crypto_Automated_Pull.csv', index=False)\n",
    "    \n",
    "    print(df)"
   ]
  },
  {
   "cell_type": "code",
   "execution_count": 3,
   "metadata": {},
   "outputs": [
    {
     "name": "stdout",
     "output_type": "stream",
     "text": [
      "  Crypto Name      Price                  TimeStamp\n",
      "0     Bitcoin  43,740.77 2023-12-22 13:34:57.650953\n",
      "  Crypto Name      Price                  TimeStamp\n",
      "0     Bitcoin  43,743.24 2023-12-22 13:36:57.799999\n",
      "  Crypto Name      Price                  TimeStamp\n",
      "0     Bitcoin  43,745.98 2023-12-22 13:38:57.947309\n",
      "  Crypto Name      Price                  TimeStamp\n",
      "0     Bitcoin  43,788.59 2023-12-22 13:40:58.098717\n",
      "  Crypto Name      Price                  TimeStamp\n",
      "0     Bitcoin  43,787.08 2023-12-22 13:42:58.303756\n"
     ]
    },
    {
     "ename": "KeyboardInterrupt",
     "evalue": "",
     "output_type": "error",
     "traceback": [
      "\u001b[0;31m---------------------------------------------------------------------------\u001b[0m",
      "\u001b[0;31mKeyboardInterrupt\u001b[0m                         Traceback (most recent call last)",
      "\u001b[1;32mUntitled-1.ipynb Cell 4\u001b[0m line \u001b[0;36m3\n\u001b[1;32m      <a href='vscode-notebook-cell:Untitled-1.ipynb?jupyter-notebook#X16sdW50aXRsZWQ%3D?line=0'>1</a>\u001b[0m \u001b[39mwhile\u001b[39;00m \u001b[39mTrue\u001b[39;00m:\n\u001b[1;32m      <a href='vscode-notebook-cell:Untitled-1.ipynb?jupyter-notebook#X16sdW50aXRsZWQ%3D?line=1'>2</a>\u001b[0m     automated_crypto_pull()\n\u001b[0;32m----> <a href='vscode-notebook-cell:Untitled-1.ipynb?jupyter-notebook#X16sdW50aXRsZWQ%3D?line=2'>3</a>\u001b[0m     time\u001b[39m.\u001b[39;49msleep(\u001b[39m120\u001b[39;49m)\n",
      "\u001b[0;31mKeyboardInterrupt\u001b[0m: "
     ]
    }
   ],
   "source": [
    "while True:\n",
    "    automated_crypto_pull()\n",
    "    time.sleep(120)"
   ]
  }
 ],
 "metadata": {
  "kernelspec": {
   "display_name": "Python 3",
   "language": "python",
   "name": "python3"
  },
  "language_info": {
   "codemirror_mode": {
    "name": "ipython",
    "version": 3
   },
   "file_extension": ".py",
   "mimetype": "text/x-python",
   "name": "python",
   "nbconvert_exporter": "python",
   "pygments_lexer": "ipython3",
   "version": "3.11.2"
  }
 },
 "nbformat": 4,
 "nbformat_minor": 2
}
