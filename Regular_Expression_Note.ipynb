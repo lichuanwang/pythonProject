{
 "cells": [
  {
   "cell_type": "markdown",
   "metadata": {},
   "source": [
    "# Regular Expression"
   ]
  },
  {
   "cell_type": "code",
   "execution_count": 2,
   "metadata": {},
   "outputs": [],
   "source": [
    "import re"
   ]
  },
  {
   "cell_type": "markdown",
   "metadata": {},
   "source": [
    "re.search(pattern, string, flags=0): Searches for a pattern anywhere in the string and returns a match object if found.\n",
    "\n",
    "re.match(pattern, string, flags=0): Matches the pattern at the beginning of the string and returns a match object if found.\n",
    "\n",
    "re.fullmatch(pattern, string, flags=0): Matches the entire string against the pattern and returns a match object if found.\n",
    "\n",
    "re.findall(pattern, string, flags=0): Returns all non-overlapping occurrences of the pattern in the string as a list of strings.\n",
    "\n",
    "re.finditer(pattern, string, flags=0): Returns an iterator yielding match objects for all non-overlapping occurrences of the pattern in the string.\n",
    "\n",
    "re.split(pattern, string, maxsplit=0, flags=0): Splits the string by the occurrences of the pattern and returns a list of substrings.\n",
    "\n",
    "re.sub(pattern, repl, string, count=0, flags=0): Replaces occurrences of the pattern in the string with the specified replacement string.\n",
    "\n",
    "re.subn(pattern, repl, string, count=0, flags=0): Performs the same function as re.sub() but returns a tuple containing the modified string and the number of substitutions made.\n",
    "\n",
    "re.compile(pattern, flags=0): Compiles a regular expression pattern into a pattern object, which can be used for matching or searching operations.\n",
    "\n",
    "re.escape(string): Escapes special characters in the string, making it suitable for use as a literal in a regular expression pattern."
   ]
  },
  {
   "cell_type": "code",
   "execution_count": 3,
   "metadata": {},
   "outputs": [],
   "source": [
    "quote = \"I saved a life. My own. Am I a hero? I really can't say, but yes. - Michael Scott\" "
   ]
  },
  {
   "cell_type": "markdown",
   "metadata": {},
   "source": [
    "### re.search() only find the first one"
   ]
  },
  {
   "cell_type": "code",
   "execution_count": 4,
   "metadata": {},
   "outputs": [
    {
     "data": {
      "text/plain": [
       "<re.Match object; span=(31, 35), match='hero'>"
      ]
     },
     "execution_count": 4,
     "metadata": {},
     "output_type": "execute_result"
    }
   ],
   "source": [
    "re.search(\"hero\", quote)"
   ]
  },
  {
   "cell_type": "markdown",
   "metadata": {},
   "source": [
    "### re.findall will find all the matches"
   ]
  },
  {
   "cell_type": "code",
   "execution_count": 5,
   "metadata": {},
   "outputs": [
    {
     "data": {
      "text/plain": [
       "['I', 'I', 'I']"
      ]
     },
     "execution_count": 5,
     "metadata": {},
     "output_type": "execute_result"
    }
   ],
   "source": [
    "re.findall(\"I\", quote)"
   ]
  },
  {
   "cell_type": "markdown",
   "metadata": {},
   "source": [
    "### if we want to split by the period, we need to add a slash in front of it"
   ]
  },
  {
   "cell_type": "code",
   "execution_count": 6,
   "metadata": {},
   "outputs": [
    {
     "data": {
      "text/plain": [
       "['I saved a life',\n",
       " ' My own',\n",
       " \" Am I a hero? I really can't say, but yes\",\n",
       " ' - Michael Scott']"
      ]
     },
     "execution_count": 6,
     "metadata": {},
     "output_type": "execute_result"
    }
   ],
   "source": [
    "re.split(\"\\.\", quote)"
   ]
  },
  {
   "cell_type": "code",
   "execution_count": 7,
   "metadata": {},
   "outputs": [
    {
     "data": {
      "text/plain": [
       "['I saved a life',\n",
       " \" My own. Am I a hero? I really can't say, but yes. - Michael Scott\"]"
      ]
     },
     "execution_count": 7,
     "metadata": {},
     "output_type": "execute_result"
    }
   ],
   "source": [
    "re.split(\"\\.\", quote, maxsplit=1)"
   ]
  },
  {
   "cell_type": "markdown",
   "metadata": {},
   "source": [
    "### re.sub()"
   ]
  },
  {
   "cell_type": "code",
   "execution_count": 8,
   "metadata": {},
   "outputs": [
    {
     "data": {
      "text/plain": [
       "\"You saved a life. My own. Am I a hero? I really can't say, but yes. - Michael Scott\""
      ]
     },
     "execution_count": 8,
     "metadata": {},
     "output_type": "execute_result"
    }
   ],
   "source": [
    "re.sub('I', 'You', quote, count = 1)"
   ]
  },
  {
   "cell_type": "markdown",
   "metadata": {},
   "source": [
    "## Regex Character Classes"
   ]
  },
  {
   "cell_type": "markdown",
   "metadata": {},
   "source": [
    "[ ]: Defines a character class (matches any single character within the brackets).\n",
    "\n",
    "\\ : Used for escaping Metacharacters\n",
    "\n",
    "\".\" (dot): Matches any character except a newline.\n",
    "\n",
    "^ : Anchors the regex at the start of the string.\n",
    "\n",
    "$ : Anchors the regex at the end of the string.\n",
    "\n",
    "* : Matches 0 or more occurrences of the preceding character.\n",
    "\n",
    "+ : Matches 1 or more occurrences of the preceding character.\n",
    "\n",
    "? : Matches 0 or 1 occurrence of the preceding character.\n",
    "\n",
    "{ } : Exactly the specified number of occurrences\n",
    "\n",
    "| : Acts like a logical OR. A|B matches either A or B."
   ]
  },
  {
   "cell_type": "markdown",
   "metadata": {},
   "source": [
    "## Regex MetaCharacters"
   ]
  },
  {
   "cell_type": "markdown",
   "metadata": {},
   "source": [
    "[abc]: Matches any single character that is either a, b, or c.\n",
    "\n",
    "[^abc]: Matches any single character that is not a, b, or c. The ^ inside the square brackets negates the character class.\n",
    "\n",
    "[a-z]: Matches any single lowercase letter from a to z.\n",
    "\n",
    "[A-Z]: Matches any single uppercase letter from A to Z.\n",
    "\n",
    "[0-9]: Matches any single digit from 0 to 9.\n",
    "\n",
    "[a-zA-Z]: Matches any single letter, either lowercase or uppercase.\n",
    "\n",
    "[\\d]: Matches any single digit. It is equivalent to [0-9].\n",
    "\n",
    "[\\D]: Matches any single non-digit character. It is equivalent to [^0-9].\n",
    "\n",
    "[\\w]: Matches any single alphanumeric character (letters, digits, or underscore). It is equivalent to [a-zA-Z0-9_].\n",
    "\n",
    "[\\W]: Matches any single non-alphanumeric character. It is equivalent to [^a-zA-Z0-9_].\n",
    "\n",
    "[\\s]: Matches any whitespace character (space, tab, newline, etc.).\n",
    "\n",
    "[\\S]: Matches any non-whitespace character.\n",
    "\n",
    "[\\b]: Matches when there is a word boundary present (spaces mostly).\n",
    "\n",
    "[\\B]: Matches there is not a word boundary present (characters).\n",
    "\n",
    "[\\Z]: Matches at the end of a string"
   ]
  },
  {
   "cell_type": "markdown",
   "metadata": {},
   "source": [
    "## Match Object Methods"
   ]
  },
  {
   "cell_type": "markdown",
   "metadata": {},
   "source": [
    "group(): Returns the matched string.\n",
    "\n",
    "start(): Returns the starting position of the match.\n",
    "\n",
    "end(): Returns the ending position of the match.\n",
    "\n",
    "span(): Returns a tuple containing the starting and ending positions of the match.\n",
    "\n",
    "groups(): Returns a tuple containing all the captured groups in the match.\n",
    "\n",
    "group(index): Returns the captured group at the specified index.\n",
    "\n",
    "groupdict(): Returns a dictionary containing named captured groups, where the keys are the group names.\n",
    "\n",
    "expand(template): Returns the matched string with any backreferences replaced using the specified template."
   ]
  },
  {
   "cell_type": "markdown",
   "metadata": {},
   "source": [
    "## Modifiers"
   ]
  },
  {
   "cell_type": "markdown",
   "metadata": {},
   "source": [
    "Modifiers (also known as flags) are used to modify the behavior of the pattern matching. They are added as optional parameters to the regular expression functions or as inline modifiers within the pattern itself. Here is a list of the main modifiers in Python's re module:\n",
    "\n",
    "re.IGNORECASE or re.I: Ignores case sensitivity when matching characters. For example, /abc/i matches \"abc\", \"AbC\", \"ABC\", etc.\n",
    "\n",
    "re.MULTILINE or re.M: Enables multi-line mode. Changes the behavior of ^ and $ to match the start and end of each line in addition to the start and end of the string.\n",
    "\n",
    "re.DOTALL or re.S: Makes the . metacharacter match any character, including newline characters (\\n).\n",
    "\n",
    "re.VERBOSE or re.X: Allows the use of whitespace and comments within the regular expression pattern for better readability. Whitespace and comments are ignored unless they are within square brackets or escaped.\n",
    "\n",
    "re.ASCII or re.A: Restricts character interpretation to the ASCII character set. Overrides the use of Unicode for character classes like \\w, \\W, \\b, etc.\n",
    "\n",
    "re.UNICODE or re.U: Enables Unicode matching. By default, \\w, \\W, \\b, etc., use Unicode property escapes to match word characters and word boundaries.\n",
    "\n",
    "re.DEBUG: Prints debugging information about the pattern compilation.\n",
    "\n"
   ]
  },
  {
   "cell_type": "code",
   "execution_count": 9,
   "metadata": {},
   "outputs": [],
   "source": [
    "string = 'I enjoy fajitas in the winter'"
   ]
  },
  {
   "cell_type": "code",
   "execution_count": 10,
   "metadata": {},
   "outputs": [
    {
     "data": {
      "text/plain": [
       "['I', 'e', 'j', 'f', 'a', 'j', 'i', 'a', 'i', 'h', 'e', 'i', 'e']"
      ]
     },
     "execution_count": 10,
     "metadata": {},
     "output_type": "execute_result"
    }
   ],
   "source": [
    "re.findall(\"[a-mA-M]\", string)"
   ]
  },
  {
   "cell_type": "code",
   "execution_count": 11,
   "metadata": {},
   "outputs": [
    {
     "data": {
      "text/plain": [
       "['1', '2', '3', '4', '5', '6']"
      ]
     },
     "execution_count": 11,
     "metadata": {},
     "output_type": "execute_result"
    }
   ],
   "source": [
    "string = 'I have 123,456 cats'\n",
    "re.findall(\"[0-9]\", string)"
   ]
  },
  {
   "cell_type": "code",
   "execution_count": 12,
   "metadata": {},
   "outputs": [
    {
     "data": {
      "text/plain": [
       "['1', '2', '3', '4', '5', '6']"
      ]
     },
     "execution_count": 12,
     "metadata": {},
     "output_type": "execute_result"
    }
   ],
   "source": [
    "re.findall(\"\\d\", string)"
   ]
  },
  {
   "cell_type": "code",
   "execution_count": 13,
   "metadata": {},
   "outputs": [],
   "source": [
    "string = 'hellp hero helpomng helpo'"
   ]
  },
  {
   "cell_type": "code",
   "execution_count": 14,
   "metadata": {},
   "outputs": [
    {
     "data": {
      "text/plain": [
       "['hero']"
      ]
     },
     "execution_count": 14,
     "metadata": {},
     "output_type": "execute_result"
    }
   ],
   "source": [
    "re.findall(\"he.o\", string)"
   ]
  },
  {
   "cell_type": "code",
   "execution_count": 15,
   "metadata": {},
   "outputs": [
    {
     "data": {
      "text/plain": [
       "['helpo', 'helpo']"
      ]
     },
     "execution_count": 15,
     "metadata": {},
     "output_type": "execute_result"
    }
   ],
   "source": [
    "re.findall(\"he..o\", string)"
   ]
  },
  {
   "cell_type": "code",
   "execution_count": 16,
   "metadata": {},
   "outputs": [
    {
     "data": {
      "text/plain": [
       "['sun']"
      ]
     },
     "execution_count": 16,
     "metadata": {},
     "output_type": "execute_result"
    }
   ],
   "source": [
    "string = 'sunflowers, sundrop, santa clause, and mushrooms are lovely in the spring'\n",
    "\n",
    "re.findall(\"^sun\", string)"
   ]
  },
  {
   "cell_type": "code",
   "execution_count": 17,
   "metadata": {},
   "outputs": [
    {
     "data": {
      "text/plain": [
       "[]"
      ]
     },
     "execution_count": 17,
     "metadata": {},
     "output_type": "execute_result"
    }
   ],
   "source": [
    "re.findall(\"^mush\", string)"
   ]
  },
  {
   "cell_type": "code",
   "execution_count": 18,
   "metadata": {},
   "outputs": [
    {
     "data": {
      "text/plain": [
       "['!']"
      ]
     },
     "execution_count": 18,
     "metadata": {},
     "output_type": "execute_result"
    }
   ],
   "source": [
    "string = \"I love this python course!\"\n",
    "\n",
    "re.findall(\"!$\", string)"
   ]
  },
  {
   "cell_type": "code",
   "execution_count": 19,
   "metadata": {},
   "outputs": [
    {
     "data": {
      "text/plain": [
       "['This Thing called a Thimble is']"
      ]
     },
     "execution_count": 19,
     "metadata": {},
     "output_type": "execute_result"
    }
   ],
   "source": [
    "string = 'This Thing called a Thimble is Thick'\n",
    "\n",
    "re.findall('Thi.*s', string)"
   ]
  },
  {
   "cell_type": "code",
   "execution_count": 20,
   "metadata": {},
   "outputs": [
    {
     "data": {
      "text/plain": [
       "['Helping']"
      ]
     },
     "execution_count": 20,
     "metadata": {},
     "output_type": "execute_result"
    }
   ],
   "source": [
    "string2 = 'Helping someone is kind'\n",
    "\n",
    "re.findall('H.*ing', string2)\n",
    "\n",
    "# re.findall('Help+', string2)"
   ]
  },
  {
   "cell_type": "markdown",
   "metadata": {},
   "source": [
    "## Regex Use Cases"
   ]
  },
  {
   "cell_type": "code",
   "execution_count": 21,
   "metadata": {},
   "outputs": [],
   "source": [
    "import re\n",
    "\n",
    "random_text = \"\"\"\n",
    "My name is Mr. Wang. My phone number is 123-456-7899. My email is OscarWang@gmail.com.\n",
    "My name is Mr. Freberg. My phone number is 542-234-2819. My email is AlexFreberg@yahoo.com.\n",
    "My name is Mrs.Rosie. My phone number is 285-036-5215. My email is GoldenGirl@apple.com.\n",
    "\"\"\""
   ]
  },
  {
   "cell_type": "code",
   "execution_count": 22,
   "metadata": {},
   "outputs": [
    {
     "data": {
      "text/plain": [
       "['gmail', 'yahoo', 'apple']"
      ]
     },
     "execution_count": 22,
     "metadata": {},
     "output_type": "execute_result"
    }
   ],
   "source": [
    "re.findall(r\"@([a-zA-Z]+)\", random_text)"
   ]
  },
  {
   "cell_type": "code",
   "execution_count": 23,
   "metadata": {},
   "outputs": [
    {
     "data": {
      "text/plain": [
       "['gmail.com.', 'yahoo.com.', 'apple.com.']"
      ]
     },
     "execution_count": 23,
     "metadata": {},
     "output_type": "execute_result"
    }
   ],
   "source": [
    "re.findall(r\"@([\\w\\.+]+)\", random_text)"
   ]
  },
  {
   "cell_type": "code",
   "execution_count": 24,
   "metadata": {},
   "outputs": [
    {
     "data": {
      "text/plain": [
       "['OscarWang@gmail.com.', 'AlexFreberg@yahoo.com.', 'GoldenGirl@apple.com.']"
      ]
     },
     "execution_count": 24,
     "metadata": {},
     "output_type": "execute_result"
    }
   ],
   "source": [
    "re.findall(r\"[\\w\\.+]+@[\\w\\.+]+\", random_text)"
   ]
  },
  {
   "cell_type": "code",
   "execution_count": 25,
   "metadata": {},
   "outputs": [],
   "source": [
    "import re\n",
    "\n",
    "random_text = \"\"\"\n",
    "My name is Mr. Wang. My phone number is 123-456-7899. My email is OscarWang@gmail.com.\n",
    "My name is Mr. Freberg. My phone number is 542-234-2819. My email is AlexFreberg@yahoo.com.\n",
    "My name is Mrs.Rosie. My phone number is 285-036-5215. My email is GoldenGirl@apple.com.\n",
    "\"\"\""
   ]
  },
  {
   "cell_type": "code",
   "execution_count": 26,
   "metadata": {},
   "outputs": [
    {
     "data": {
      "text/plain": [
       "['123-456-7899', '542-234-2819', '285-036-5215']"
      ]
     },
     "execution_count": 26,
     "metadata": {},
     "output_type": "execute_result"
    }
   ],
   "source": [
    "re.findall(r\"\\d{3}-\\d{3}-\\d{4}\", random_text)"
   ]
  },
  {
   "cell_type": "code",
   "execution_count": 27,
   "metadata": {},
   "outputs": [
    {
     "data": {
      "text/plain": [
       "['123', '542', '285']"
      ]
     },
     "execution_count": 27,
     "metadata": {},
     "output_type": "execute_result"
    }
   ],
   "source": [
    "re.findall(r\"\\ (\\d{3})\", random_text)"
   ]
  },
  {
   "cell_type": "code",
   "execution_count": 28,
   "metadata": {},
   "outputs": [],
   "source": [
    "email_list = ['OscarWang@gmail.com', 'AlexFreberg@yahoo.com', 'sss@apple.com']"
   ]
  },
  {
   "cell_type": "code",
   "execution_count": 29,
   "metadata": {},
   "outputs": [
    {
     "data": {
      "text/plain": [
       "['gmail', 'yahoo', 'apple']"
      ]
     },
     "execution_count": 29,
     "metadata": {},
     "output_type": "execute_result"
    }
   ],
   "source": [
    "domain = [re.findall(r\"@([a-zA-Z]+)\", email)[0] for email in email_list]\n",
    "\n",
    "domain"
   ]
  },
  {
   "cell_type": "code",
   "execution_count": null,
   "metadata": {},
   "outputs": [],
   "source": []
  }
 ],
 "metadata": {
  "kernelspec": {
   "display_name": "Python 3",
   "language": "python",
   "name": "python3"
  },
  "language_info": {
   "codemirror_mode": {
    "name": "ipython",
    "version": 3
   },
   "file_extension": ".py",
   "mimetype": "text/x-python",
   "name": "python",
   "nbconvert_exporter": "python",
   "pygments_lexer": "ipython3",
   "version": "3.11.2"
  }
 },
 "nbformat": 4,
 "nbformat_minor": 2
}
