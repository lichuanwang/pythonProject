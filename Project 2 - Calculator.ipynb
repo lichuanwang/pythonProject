{
 "cells": [
  {
   "cell_type": "code",
   "execution_count": 1,
   "metadata": {},
   "outputs": [],
   "source": [
    "def add(x, y):\n",
    "    return x + y;\n",
    "\n",
    "def substract(x, y):\n",
    "    return x - y;\n",
    "\n",
    "def multiply(x, y):\n",
    "    return x * y;\n",
    "\n",
    "def divide(x, y):\n",
    "    return x / y;\n"
   ]
  },
  {
   "cell_type": "code",
   "execution_count": null,
   "metadata": {},
   "outputs": [],
   "source": [
    "print(\"\"\"Choose a Math Operation\n",
    "Enter \"A\" for Addition\n",
    "Enter \"S\" for Subtraction\n",
    "Enter \"M\" for Multiplication\n",
    "Enter \"D\" for Division\n",
    "\"\"\")\n",
    "\n",
    "\n",
    "\n",
    "while True:\n",
    "    \n",
    "    choice = input(\"Enter a choice (A,S,M,D): \")\n",
    "\n",
    "    number_one = int(input(\"Enter First Number: \"))\n",
    "\n",
    "    number_two = int(input(\"Enter Second Number: \"))\n",
    "\n",
    "    if choice.lower() in ['a','add','addition']:\n",
    "        print(number_one, \"+\", number_two, \"=\",add(number_one,number_two))\n",
    "    elif choice.lower() in ['s','sub','subtraction']:\n",
    "        print(number_one, \"-\", number_two, \"=\",subtract(number_one,number_two))\n",
    "    elif choice.lower() in ['m','multiply','multiplication']:\n",
    "        print(number_one, \"*\", number_two, \"=\",multiply(number_one,number_two))\n",
    "    elif choice.lower() in ['d','divide','division']:\n",
    "        print(number_one, \"/\", number_two, \"=\",divide(number_one,number_two))\n",
    "\n",
    "    else:\n",
    "        print(\"Please enter an valid input (A,S,M,D)\")\n",
    "        \n",
    "    next_calculation = input(\"Do you want to do another calculation? (yes,no): \")\n",
    "    if next_calculation.lower() in ['no','n','nope']:\n",
    "        break\n",
    "    else:\n",
    "        continue"
   ]
  }
 ],
 "metadata": {
  "kernelspec": {
   "display_name": "Python 3",
   "language": "python",
   "name": "python3"
  },
  "language_info": {
   "codemirror_mode": {
    "name": "ipython",
    "version": 3
   },
   "file_extension": ".py",
   "mimetype": "text/x-python",
   "name": "python",
   "nbconvert_exporter": "python",
   "pygments_lexer": "ipython3",
   "version": "3.11.2"
  }
 },
 "nbformat": 4,
 "nbformat_minor": 2
}
